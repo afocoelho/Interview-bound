{
 "cells": [
  {
   "cell_type": "markdown",
   "metadata": {},
   "source": [
    "# Report NoteBook"
   ]
  },
  {
   "cell_type": "markdown",
   "metadata": {},
   "source": [
    "To do:  \n",
    "  - Simple Tests - Garantee that everything is working.  \n",
    "Construct a python test script  \n",
    "\n",
    "Extras\n",
    "\n",
    "\n",
    "Done:\n",
    "  - Send the records as json\n",
    "  - Add all verifications to the different actions  \n",
    "  - Garantee the Records from different actions will go to different places.  "
   ]
  },
  {
   "cell_type": "markdown",
   "metadata": {},
   "source": [
    "# Main file"
   ]
  },
  {
   "cell_type": "code",
   "execution_count": 1,
   "metadata": {},
   "outputs": [
    {
     "ename": "ModuleNotFoundError",
     "evalue": "No module named 'json_util'",
     "output_type": "error",
     "traceback": [
      "\u001b[0;31m---------------------------------------------------------------------------\u001b[0m",
      "\u001b[0;31mModuleNotFoundError\u001b[0m                       Traceback (most recent call last)",
      "\u001b[0;32m<ipython-input-1-de04560bb116>\u001b[0m in \u001b[0;36m<module>\u001b[0;34m\u001b[0m\n\u001b[0;32m----> 1\u001b[0;31m \u001b[0;32mimport\u001b[0m \u001b[0mjson_util\u001b[0m\u001b[0;34m\u001b[0m\u001b[0;34m\u001b[0m\u001b[0m\n\u001b[0m",
      "\u001b[0;31mModuleNotFoundError\u001b[0m: No module named 'json_util'"
     ]
    }
   ],
   "source": [
    "import json_util"
   ]
  },
  {
   "cell_type": "code",
   "execution_count": 102,
   "metadata": {
    "scrolled": true
   },
   "outputs": [
    {
     "name": "stdout",
     "output_type": "stream",
     "text": [
      "Overwriting main.py\n"
     ]
    }
   ],
   "source": [
    "%%file main.py\n",
    "from flask import Flask, request, jsonify,abort,make_response\n",
    "import boto3\n",
    "import json\n",
    "\n",
    "# Create a Flask applicatiob\n",
    "app = Flask(__name__)\n",
    "\n",
    "#Creates a client to interact with firhose\n",
    "client_firehose = boto3.client('firehose',region_name='us-east-2')\n",
    "\n",
    "\n",
    "#Welcome Message\n",
    "@app.route('/')\n",
    "def begin():\n",
    "    return (\"Welcome, This API as 3 actions track,alias,profile\")\n",
    "\n",
    "\n",
    "\n",
    "####### /track  #####\n",
    "\n",
    "@app.route('/track',methods = ['POST'])\n",
    "def track():\n",
    "    \n",
    "    ## Verify Json Format and fields\n",
    "    if request.is_json:\n",
    "        user_events = request.get_json()\n",
    "\n",
    "        if type(user_events) ==dict:\n",
    "            \n",
    "            #Correct Json Fields Verification\n",
    "            if list(user_events.keys())==['userId', 'events']:\n",
    "\n",
    "                #creates a string with the json format of the request\n",
    "                user_events_json=json.dumps(user_events)\n",
    "\n",
    "                #Sends the string to firehose Delivery Stream projectx-track which will write periodically on amazon S3 on the preffix track\n",
    "                response = client_firehose.put_record(DeliveryStreamName='projectx-track',Record={'Data': user_events_json})  \n",
    "                #return(str(response['ResponseMetadata']['HTTPStatusCode'])+' '+'OK')\n",
    "                res_fields = {\"Description\":'OK'}\n",
    "\n",
    "                make_response(json.dumps(res_fields, default=json_util.default),200)\n",
    "            \n",
    "            else:\n",
    "                abort(400,'Wrong Json Fiels')\n",
    "        else:\n",
    "            abort(400,'request data was understood as '+str(type(user_events))+ ' Instead of Json')\n",
    "    else:\n",
    "        abort(400,'API was not able to recognize JSON format')\n",
    "\n",
    "\n",
    "###### /alias #####\n",
    "\n",
    "@app.route('/alias',methods = ['POST'])\n",
    "def alias():\n",
    "    \n",
    "\n",
    "    ## Verify Json Format and fields\n",
    "    if request.is_json:\n",
    "        alias_user = request.get_json()\n",
    "\n",
    "        if type(alias_user) ==dict:\n",
    "            \n",
    "    \n",
    "            #Correct Json Fields Verification\n",
    "            if list(alias_user.keys())==  [\"newUserId\",\"originalUserId\",\"timestampUTC\"]:\n",
    "\n",
    "                #creates a string with the json format of the request\n",
    "                alias_user_json=json.dumps(alias_user)\n",
    "\n",
    "                #Sends the string to firehose Delivery Stream projectx-alias which will write periodically on amazon S3 on the preffix alias\n",
    "                response = client_firehose.put_record(DeliveryStreamName='projectx-alias',Record={'Data': alias_user_json})\n",
    "                return(str(response['ResponseMetadata']['HTTPStatusCode'])+' '+'OK')\n",
    "            \n",
    "            else:\n",
    "                abort(400,'Error: Wrong Json Fiels')\n",
    "        else:\n",
    "            abort(400,'request data was understood as '+str(type(alias_user)) + ' Instead of Json')\n",
    "    else:\n",
    "        abort(400,'API was not able to recognize JSON format')\n",
    "\n",
    "\n",
    "###### /profile #####\n",
    "\n",
    "@app.route('/profile',methods = ['POST'])\n",
    "def profile():    \n",
    "\n",
    "    \n",
    "    ## Verify Json Format and fields\n",
    "    if request.is_json:\n",
    "        user_profile = request.get_json()\n",
    "\n",
    "        if type(user_profile) ==dict:\n",
    "            \n",
    "            #Correct Json Fields Verification\n",
    "            if list(user_profile.keys())==  [\"userId\",\"attributes\",\"timestampUTC\"]:\n",
    "\n",
    "                #creates a string with the json format of the request\n",
    "                user_profile_json=json.dumps(user_profile)\n",
    "\n",
    "                #Sends the string to firehose Delivery Stream projectx-profile which will write periodically on amazon S3 on the preffix profile\n",
    "                response= client_firehose.put_record(DeliveryStreamName='projectx-profile',Record={'Data': user_profile_json})\n",
    "                return(str(response['ResponseMetadata']['HTTPStatusCode'])+' '+'OK')\n",
    "            else:\n",
    "                abort(400,'Error: Wrong Json Fiels')\n",
    "        else:\n",
    "            abort(400,'request data was understood as '+ str(type(user_profile)) + ' Instead of Json')\n",
    "    else:\n",
    "        abort(400,'API was not able to recognize JSON format')\n",
    "\n",
    "\n",
    "\n",
    "if __name__ == \"__main__\":\n",
    "    app.run(host='0.0.0.0',port=80)"
   ]
  },
  {
   "cell_type": "code",
   "execution_count": 82,
   "metadata": {},
   "outputs": [],
   "source": [
    "from flask import make_response"
   ]
  },
  {
   "cell_type": "code",
   "execution_count": 83,
   "metadata": {
    "scrolled": true
   },
   "outputs": [
    {
     "ename": "RuntimeError",
     "evalue": "Working outside of application context.\n\nThis typically means that you attempted to use functionality that needed\nto interface with the current application object in some way. To solve\nthis, set up an application context with app.app_context().  See the\ndocumentation for more information.",
     "output_type": "error",
     "traceback": [
      "\u001b[0;31m---------------------------------------------------------------------------\u001b[0m",
      "\u001b[0;31mRuntimeError\u001b[0m                              Traceback (most recent call last)",
      "\u001b[0;32m<ipython-input-83-f98ba82ba193>\u001b[0m in \u001b[0;36m<module>\u001b[0;34m\u001b[0m\n\u001b[0;32m----> 1\u001b[0;31m \u001b[0mmake_response\u001b[0m\u001b[0;34m(\u001b[0m\u001b[0;34m'ok'\u001b[0m\u001b[0;34m,\u001b[0m\u001b[0;36m200\u001b[0m\u001b[0;34m)\u001b[0m\u001b[0;34m\u001b[0m\u001b[0;34m\u001b[0m\u001b[0m\n\u001b[0m",
      "\u001b[0;32m~/anaconda3/lib/python3.7/site-packages/flask/helpers.py\u001b[0m in \u001b[0;36mmake_response\u001b[0;34m(*args)\u001b[0m\n\u001b[1;32m    211\u001b[0m     \u001b[0;32mif\u001b[0m \u001b[0mlen\u001b[0m\u001b[0;34m(\u001b[0m\u001b[0margs\u001b[0m\u001b[0;34m)\u001b[0m \u001b[0;34m==\u001b[0m \u001b[0;36m1\u001b[0m\u001b[0;34m:\u001b[0m\u001b[0;34m\u001b[0m\u001b[0;34m\u001b[0m\u001b[0m\n\u001b[1;32m    212\u001b[0m         \u001b[0margs\u001b[0m \u001b[0;34m=\u001b[0m \u001b[0margs\u001b[0m\u001b[0;34m[\u001b[0m\u001b[0;36m0\u001b[0m\u001b[0;34m]\u001b[0m\u001b[0;34m\u001b[0m\u001b[0;34m\u001b[0m\u001b[0m\n\u001b[0;32m--> 213\u001b[0;31m     \u001b[0;32mreturn\u001b[0m \u001b[0mcurrent_app\u001b[0m\u001b[0;34m.\u001b[0m\u001b[0mmake_response\u001b[0m\u001b[0;34m(\u001b[0m\u001b[0margs\u001b[0m\u001b[0;34m)\u001b[0m\u001b[0;34m\u001b[0m\u001b[0;34m\u001b[0m\u001b[0m\n\u001b[0m\u001b[1;32m    214\u001b[0m \u001b[0;34m\u001b[0m\u001b[0m\n\u001b[1;32m    215\u001b[0m \u001b[0;34m\u001b[0m\u001b[0m\n",
      "\u001b[0;32m~/anaconda3/lib/python3.7/site-packages/werkzeug/local.py\u001b[0m in \u001b[0;36m__getattr__\u001b[0;34m(self, name)\u001b[0m\n\u001b[1;32m    345\u001b[0m         \u001b[0;32mif\u001b[0m \u001b[0mname\u001b[0m \u001b[0;34m==\u001b[0m \u001b[0;34m'__members__'\u001b[0m\u001b[0;34m:\u001b[0m\u001b[0;34m\u001b[0m\u001b[0;34m\u001b[0m\u001b[0m\n\u001b[1;32m    346\u001b[0m             \u001b[0;32mreturn\u001b[0m \u001b[0mdir\u001b[0m\u001b[0;34m(\u001b[0m\u001b[0mself\u001b[0m\u001b[0;34m.\u001b[0m\u001b[0m_get_current_object\u001b[0m\u001b[0;34m(\u001b[0m\u001b[0;34m)\u001b[0m\u001b[0;34m)\u001b[0m\u001b[0;34m\u001b[0m\u001b[0;34m\u001b[0m\u001b[0m\n\u001b[0;32m--> 347\u001b[0;31m         \u001b[0;32mreturn\u001b[0m \u001b[0mgetattr\u001b[0m\u001b[0;34m(\u001b[0m\u001b[0mself\u001b[0m\u001b[0;34m.\u001b[0m\u001b[0m_get_current_object\u001b[0m\u001b[0;34m(\u001b[0m\u001b[0;34m)\u001b[0m\u001b[0;34m,\u001b[0m \u001b[0mname\u001b[0m\u001b[0;34m)\u001b[0m\u001b[0;34m\u001b[0m\u001b[0;34m\u001b[0m\u001b[0m\n\u001b[0m\u001b[1;32m    348\u001b[0m \u001b[0;34m\u001b[0m\u001b[0m\n\u001b[1;32m    349\u001b[0m     \u001b[0;32mdef\u001b[0m \u001b[0m__setitem__\u001b[0m\u001b[0;34m(\u001b[0m\u001b[0mself\u001b[0m\u001b[0;34m,\u001b[0m \u001b[0mkey\u001b[0m\u001b[0;34m,\u001b[0m \u001b[0mvalue\u001b[0m\u001b[0;34m)\u001b[0m\u001b[0;34m:\u001b[0m\u001b[0;34m\u001b[0m\u001b[0;34m\u001b[0m\u001b[0m\n",
      "\u001b[0;32m~/anaconda3/lib/python3.7/site-packages/werkzeug/local.py\u001b[0m in \u001b[0;36m_get_current_object\u001b[0;34m(self)\u001b[0m\n\u001b[1;32m    304\u001b[0m         \"\"\"\n\u001b[1;32m    305\u001b[0m         \u001b[0;32mif\u001b[0m \u001b[0;32mnot\u001b[0m \u001b[0mhasattr\u001b[0m\u001b[0;34m(\u001b[0m\u001b[0mself\u001b[0m\u001b[0;34m.\u001b[0m\u001b[0m__local\u001b[0m\u001b[0;34m,\u001b[0m \u001b[0;34m'__release_local__'\u001b[0m\u001b[0;34m)\u001b[0m\u001b[0;34m:\u001b[0m\u001b[0;34m\u001b[0m\u001b[0;34m\u001b[0m\u001b[0m\n\u001b[0;32m--> 306\u001b[0;31m             \u001b[0;32mreturn\u001b[0m \u001b[0mself\u001b[0m\u001b[0;34m.\u001b[0m\u001b[0m__local\u001b[0m\u001b[0;34m(\u001b[0m\u001b[0;34m)\u001b[0m\u001b[0;34m\u001b[0m\u001b[0;34m\u001b[0m\u001b[0m\n\u001b[0m\u001b[1;32m    307\u001b[0m         \u001b[0;32mtry\u001b[0m\u001b[0;34m:\u001b[0m\u001b[0;34m\u001b[0m\u001b[0;34m\u001b[0m\u001b[0m\n\u001b[1;32m    308\u001b[0m             \u001b[0;32mreturn\u001b[0m \u001b[0mgetattr\u001b[0m\u001b[0;34m(\u001b[0m\u001b[0mself\u001b[0m\u001b[0;34m.\u001b[0m\u001b[0m__local\u001b[0m\u001b[0;34m,\u001b[0m \u001b[0mself\u001b[0m\u001b[0;34m.\u001b[0m\u001b[0m__name__\u001b[0m\u001b[0;34m)\u001b[0m\u001b[0;34m\u001b[0m\u001b[0;34m\u001b[0m\u001b[0m\n",
      "\u001b[0;32m~/anaconda3/lib/python3.7/site-packages/flask/globals.py\u001b[0m in \u001b[0;36m_find_app\u001b[0;34m()\u001b[0m\n\u001b[1;32m     49\u001b[0m     \u001b[0mtop\u001b[0m \u001b[0;34m=\u001b[0m \u001b[0m_app_ctx_stack\u001b[0m\u001b[0;34m.\u001b[0m\u001b[0mtop\u001b[0m\u001b[0;34m\u001b[0m\u001b[0;34m\u001b[0m\u001b[0m\n\u001b[1;32m     50\u001b[0m     \u001b[0;32mif\u001b[0m \u001b[0mtop\u001b[0m \u001b[0;32mis\u001b[0m \u001b[0;32mNone\u001b[0m\u001b[0;34m:\u001b[0m\u001b[0;34m\u001b[0m\u001b[0;34m\u001b[0m\u001b[0m\n\u001b[0;32m---> 51\u001b[0;31m         \u001b[0;32mraise\u001b[0m \u001b[0mRuntimeError\u001b[0m\u001b[0;34m(\u001b[0m\u001b[0m_app_ctx_err_msg\u001b[0m\u001b[0;34m)\u001b[0m\u001b[0;34m\u001b[0m\u001b[0;34m\u001b[0m\u001b[0m\n\u001b[0m\u001b[1;32m     52\u001b[0m     \u001b[0;32mreturn\u001b[0m \u001b[0mtop\u001b[0m\u001b[0;34m.\u001b[0m\u001b[0mapp\u001b[0m\u001b[0;34m\u001b[0m\u001b[0;34m\u001b[0m\u001b[0m\n\u001b[1;32m     53\u001b[0m \u001b[0;34m\u001b[0m\u001b[0m\n",
      "\u001b[0;31mRuntimeError\u001b[0m: Working outside of application context.\n\nThis typically means that you attempted to use functionality that needed\nto interface with the current application object in some way. To solve\nthis, set up an application context with app.app_context().  See the\ndocumentation for more information."
     ]
    }
   ],
   "source": [
    "make_response('ok',200)"
   ]
  },
  {
   "cell_type": "markdown",
   "metadata": {},
   "source": [
    "### Confirmations Ifs and sample requests"
   ]
  },
  {
   "cell_type": "code",
   "execution_count": 19,
   "metadata": {},
   "outputs": [],
   "source": [
    "user_events = {\"userId\": \"fakeid01\",\"events\": [{\"eventName\": \"test\",\"metadata\": {\"test\":1},\"timestampUTC\": 0}]}\n",
    "alias_user=  {  \"newUserId\": \"string\",\"originalUserId\": \"string\",\"timestampUTC\": 0}\n",
    "user_profile= {   \"userId\": \"string\",  \"attributes\": {},  \"timestampUTC\": 0 }"
   ]
  },
  {
   "cell_type": "code",
   "execution_count": 88,
   "metadata": {},
   "outputs": [
    {
     "data": {
      "text/plain": [
       "tuple"
      ]
     },
     "execution_count": 88,
     "metadata": {},
     "output_type": "execute_result"
    }
   ],
   "source": [
    "type(('sdsasd',200))"
   ]
  },
  {
   "cell_type": "code",
   "execution_count": 17,
   "metadata": {},
   "outputs": [
    {
     "data": {
      "text/plain": [
       "True"
      ]
     },
     "execution_count": 17,
     "metadata": {},
     "output_type": "execute_result"
    }
   ],
   "source": [
    "type(user_events)==dict # to verify that the json format was understood\n",
    "list(user_events.keys())==['userId', 'events']# to verify the filters"
   ]
  },
  {
   "cell_type": "code",
   "execution_count": 18,
   "metadata": {},
   "outputs": [
    {
     "data": {
      "text/plain": [
       "True"
      ]
     },
     "execution_count": 18,
     "metadata": {},
     "output_type": "execute_result"
    }
   ],
   "source": [
    "type(alias_user)==dict\n",
    "list(alias_user.keys())==  [\"newUserId\",\"originalUserId\",\"timestampUTC\"]"
   ]
  },
  {
   "cell_type": "code",
   "execution_count": 24,
   "metadata": {
    "scrolled": true
   },
   "outputs": [
    {
     "data": {
      "text/plain": [
       "True"
      ]
     },
     "execution_count": 24,
     "metadata": {},
     "output_type": "execute_result"
    }
   ],
   "source": [
    "type(user_profile)==dict\n",
    "list(user_profile.keys()) ==[\"userId\",\"attributes\",\"timestampUTC\"]"
   ]
  },
  {
   "cell_type": "markdown",
   "metadata": {},
   "source": [
    "# Test scripts"
   ]
  },
  {
   "cell_type": "code",
   "execution_count": 4,
   "metadata": {},
   "outputs": [],
   "source": [
    "import requests\n",
    "import time\n",
    "import json"
   ]
  },
  {
   "cell_type": "code",
   "execution_count": null,
   "metadata": {},
   "outputs": [],
   "source": [
    "def tests(httpaddress):\n",
    "    requests.post(httpaddress)"
   ]
  },
  {
   "cell_type": "code",
   "execution_count": 103,
   "metadata": {},
   "outputs": [
    {
     "name": "stdout",
     "output_type": "stream",
     "text": [
      "<Response [500]>\n",
      "/track is not processing the pretend json format\n",
      "<Response [200]>\n",
      "200 OK\n",
      "<Response [200]>\n",
      "200 OK\n"
     ]
    }
   ],
   "source": [
    "httpaddress = 'http://18.219.203.248/'\n",
    "\n",
    "## Test /track\n",
    "httpaddresstrack  = httpaddress + 'track'\n",
    "user_events = {\"userId\": \"fakeid01\",\"events\": [{\"eventName\": \"test\",\"metadata\": {\"test\":1},\"timestampUTC\": 0}]}\n",
    "response = requests.post(httpaddresstrack, json=user_events)\n",
    "if response.status_code == 200:\n",
    "    print(response)\n",
    "    print(response.text)\n",
    "else:\n",
    "    print(response)\n",
    "    print('/track is not processing the pretend json format')\n",
    "    \n",
    "## Test /alias\n",
    "httpaddressalias  = httpaddress + 'alias'\n",
    "originalUserId = 'user01'\n",
    "new_used_Id  = 'nuser01'\n",
    "alias_user=  {  \"newUserId\": new_used_Id,\"originalUserId\": originalUserId,\"timestampUTC\": time.time()}\n",
    "response = requests.post(httpaddressalias, json=alias_user)\n",
    "if response.status_code == 200:\n",
    "    print(response)\n",
    "    print(response.text)\n",
    "else:\n",
    "    print(response)\n",
    "    print('/alias is not processing the pretend json format')\n",
    "\n",
    "## Test /profile\n",
    "httpaddressprofile  = httpaddress + 'profile'\n",
    "user_profile= {   \"userId\": \"string\",  \"attributes\": {},  \"timestampUTC\": 0 }\n",
    "response = requests.post(httpaddressprofile, json=user_profile)\n",
    "if response.status_code == 200:\n",
    "    print(response)\n",
    "    print(response.text)\n",
    "else:\n",
    "    print(response)\n",
    "    print('/track is not processing the pretend json format')"
   ]
  },
  {
   "cell_type": "code",
   "execution_count": 78,
   "metadata": {},
   "outputs": [
    {
     "data": {
      "text/plain": [
       "True"
      ]
     },
     "execution_count": 78,
     "metadata": {},
     "output_type": "execute_result"
    }
   ],
   "source": [
    "response.status_code==200"
   ]
  },
  {
   "cell_type": "code",
   "execution_count": 12,
   "metadata": {},
   "outputs": [
    {
     "data": {
      "text/plain": [
       "{'newUserId': 'nuser01',\n",
       " 'originalUserId': 'user01',\n",
       " 'timestampUTC': 1575644730.1077456}"
      ]
     },
     "execution_count": 12,
     "metadata": {},
     "output_type": "execute_result"
    }
   ],
   "source": [
    "dict(alias_user)r"
   ]
  },
  {
   "cell_type": "code",
   "execution_count": null,
   "metadata": {},
   "outputs": [],
   "source": []
  },
  {
   "cell_type": "markdown",
   "metadata": {},
   "source": [
    "# Tutorial Starting working with aws with python\n",
    "## BOTO3 configuration"
   ]
  },
  {
   "cell_type": "code",
   "execution_count": 5,
   "metadata": {},
   "outputs": [],
   "source": [
    "import boto3"
   ]
  },
  {
   "cell_type": "markdown",
   "metadata": {},
   "source": [
    "## create a S3 resource\n",
    "This will allow us to manage S3 service"
   ]
  },
  {
   "cell_type": "code",
   "execution_count": 7,
   "metadata": {},
   "outputs": [],
   "source": [
    "s3 = boto3.resource('s3')"
   ]
  },
  {
   "cell_type": "markdown",
   "metadata": {},
   "source": [
    "## lets see how many buckets/data lakes we have"
   ]
  },
  {
   "cell_type": "code",
   "execution_count": 15,
   "metadata": {},
   "outputs": [
    {
     "name": "stdout",
     "output_type": "stream",
     "text": [
      "projectxs3\n"
     ]
    }
   ],
   "source": [
    "for bucket in s3.buckets.all():\n",
    "    print(bucket.name)"
   ]
  },
  {
   "cell_type": "markdown",
   "metadata": {},
   "source": [
    "# Now lets send the instructions to do a good \"açorda alentejana\""
   ]
  },
  {
   "cell_type": "code",
   "execution_count": 16,
   "metadata": {},
   "outputs": [
    {
     "data": {
      "text/plain": [
       "s3.Object(bucket_name='projectxs3', key='receita_acorda_')"
      ]
     },
     "execution_count": 16,
     "metadata": {},
     "output_type": "execute_result"
    }
   ],
   "source": [
    "data = open('receita_acorda.txt', 'rb')\n",
    "s3.Bucket('projectxs3').put_object(Key='receita_acorda_', Body=data)"
   ]
  },
  {
   "cell_type": "markdown",
   "metadata": {},
   "source": [
    "so we can acess direct to our s3 bucket but we want the data to pass throught kinesis firehose so..."
   ]
  },
  {
   "cell_type": "markdown",
   "metadata": {},
   "source": [
    "# KINESISSSS"
   ]
  },
  {
   "cell_type": "code",
   "execution_count": 6,
   "metadata": {},
   "outputs": [],
   "source": [
    "client = boto3.client('firehose',region_name='us-east-2')"
   ]
  },
  {
   "cell_type": "code",
   "execution_count": 7,
   "metadata": {
    "scrolled": false
   },
   "outputs": [
    {
     "data": {
      "text/plain": [
       "{'DeliveryStreamNames': ['projectx-track', 'projectx_del'],\n",
       " 'HasMoreDeliveryStreams': False,\n",
       " 'ResponseMetadata': {'RequestId': 'f83ceecc-0a67-c723-ae58-a32410e2eb82',\n",
       "  'HTTPStatusCode': 200,\n",
       "  'HTTPHeaders': {'x-amzn-requestid': 'f83ceecc-0a67-c723-ae58-a32410e2eb82',\n",
       "   'x-amz-id-2': 'L9UFhC6PuyUTCqodeoDB59/xc/uUww/+bZJgnC+cpmZf5AW+VHFJCLo63uJtZwX7MwML/8gYggfKM5t/W2rnmSWxoPFLFzSc',\n",
       "   'content-type': 'application/x-amz-json-1.1',\n",
       "   'content-length': '88',\n",
       "   'date': 'Fri, 06 Dec 2019 12:38:00 GMT'},\n",
       "  'RetryAttempts': 0}}"
      ]
     },
     "execution_count": 7,
     "metadata": {},
     "output_type": "execute_result"
    }
   ],
   "source": [
    "client.list_delivery_streams()"
   ]
  },
  {
   "cell_type": "code",
   "execution_count": 12,
   "metadata": {},
   "outputs": [],
   "source": [
    "import json"
   ]
  },
  {
   "cell_type": "code",
   "execution_count": 13,
   "metadata": {},
   "outputs": [],
   "source": [
    "variables = {\"userId\": \"fakeid05\",\"events\": [{\"eventName\": \"test\",\"metadata\": {\"test\":1},\"timestampUTC\": 0}]}\n",
    "s=json.dumps(variables)"
   ]
  },
  {
   "cell_type": "code",
   "execution_count": 14,
   "metadata": {},
   "outputs": [
    {
     "data": {
      "text/plain": [
       "'{\"userId\": \"fakeid05\", \"events\": [{\"eventName\": \"test\", \"metadata\": {\"test\": 1}, \"timestampUTC\": 0}]}'"
      ]
     },
     "execution_count": 14,
     "metadata": {},
     "output_type": "execute_result"
    }
   ],
   "source": [
    "s"
   ]
  },
  {
   "cell_type": "code",
   "execution_count": 15,
   "metadata": {},
   "outputs": [],
   "source": [
    "response = client.put_record(\n",
    "    DeliveryStreamName='projectx_del',\n",
    "    Record={\n",
    "        'Data': s\n",
    "    }\n",
    ")"
   ]
  },
  {
   "cell_type": "code",
   "execution_count": 30,
   "metadata": {},
   "outputs": [
    {
     "data": {
      "text/plain": [
       "int"
      ]
     },
     "execution_count": 30,
     "metadata": {},
     "output_type": "execute_result"
    }
   ],
   "source": [
    "type(response['ResponseMetadata']['HTTPStatusCode'])"
   ]
  },
  {
   "cell_type": "code",
   "execution_count": 5,
   "metadata": {},
   "outputs": [
    {
     "data": {
      "text/plain": [
       "{'DeliveryStreamDescription': {'DeliveryStreamName': 'projectx_del',\n",
       "  'DeliveryStreamARN': 'arn:aws:firehose:us-east-2:841513907133:deliverystream/projectx_del',\n",
       "  'DeliveryStreamStatus': 'ACTIVE',\n",
       "  'DeliveryStreamEncryptionConfiguration': {'Status': 'DISABLED'},\n",
       "  'DeliveryStreamType': 'DirectPut',\n",
       "  'VersionId': '2',\n",
       "  'CreateTimestamp': datetime.datetime(2019, 12, 5, 16, 42, 28, 329000, tzinfo=tzlocal()),\n",
       "  'LastUpdateTimestamp': datetime.datetime(2019, 12, 5, 19, 3, 18, 217000, tzinfo=tzlocal()),\n",
       "  'Destinations': [{'DestinationId': 'destinationId-000000000001',\n",
       "    'S3DestinationDescription': {'RoleARN': 'arn:aws:iam::841513907133:role/firehose_delivery_role',\n",
       "     'BucketARN': 'arn:aws:s3:::projectxs3',\n",
       "     'Prefix': '',\n",
       "     'ErrorOutputPrefix': '',\n",
       "     'BufferingHints': {'SizeInMBs': 5, 'IntervalInSeconds': 300},\n",
       "     'CompressionFormat': 'UNCOMPRESSED',\n",
       "     'EncryptionConfiguration': {'NoEncryptionConfig': 'NoEncryption'},\n",
       "     'CloudWatchLoggingOptions': {'Enabled': True,\n",
       "      'LogGroupName': '/aws/kinesisfirehose/projectx_del',\n",
       "      'LogStreamName': 'S3Delivery'}},\n",
       "    'ExtendedS3DestinationDescription': {'RoleARN': 'arn:aws:iam::841513907133:role/firehose_delivery_role',\n",
       "     'BucketARN': 'arn:aws:s3:::projectxs3',\n",
       "     'Prefix': '',\n",
       "     'ErrorOutputPrefix': '',\n",
       "     'BufferingHints': {'SizeInMBs': 5, 'IntervalInSeconds': 300},\n",
       "     'CompressionFormat': 'UNCOMPRESSED',\n",
       "     'EncryptionConfiguration': {'NoEncryptionConfig': 'NoEncryption'},\n",
       "     'CloudWatchLoggingOptions': {'Enabled': True,\n",
       "      'LogGroupName': '/aws/kinesisfirehose/projectx_del',\n",
       "      'LogStreamName': 'S3Delivery'},\n",
       "     'ProcessingConfiguration': {'Enabled': False, 'Processors': []},\n",
       "     'S3BackupMode': 'Disabled',\n",
       "     'DataFormatConversionConfiguration': {'Enabled': False}}}],\n",
       "  'HasMoreDestinations': False},\n",
       " 'ResponseMetadata': {'RequestId': 'e5f54e94-c3b4-c83d-b396-1524ba4cd582',\n",
       "  'HTTPStatusCode': 200,\n",
       "  'HTTPHeaders': {'x-amzn-requestid': 'e5f54e94-c3b4-c83d-b396-1524ba4cd582',\n",
       "   'x-amz-id-2': 'o7ppqdgyYckJu5sqAvKA3uF8W64XXlo19R3PhFfVE+QrxkE5cHda+Nh+8mEMYWHrT0as8zF3Be59YZCszHXD2wfBXiOWlabR',\n",
       "   'content-type': 'application/x-amz-json-1.1',\n",
       "   'content-length': '1510',\n",
       "   'date': 'Thu, 05 Dec 2019 19:24:31 GMT'},\n",
       "  'RetryAttempts': 0}}"
      ]
     },
     "execution_count": 5,
     "metadata": {},
     "output_type": "execute_result"
    }
   ],
   "source": [
    "client.describe_delivery_stream(DeliveryStreamName='projectx_del')"
   ]
  },
  {
   "cell_type": "code",
   "execution_count": 21,
   "metadata": {},
   "outputs": [],
   "source": [
    "with open('receita_acorda.txt', 'r') as f:\n",
    "    for line in f:\n",
    "        # Read a record of test data\n",
    "        \n",
    "\n",
    "            # Put the record into the Firehose stream\n",
    "        try:\n",
    "            client.put_record(DeliveryStreamName='projectx_del',\n",
    "                                           Record={'Data': line})\n",
    "        except:\n",
    "            print('error')\n",
    "        # Put 200 records in a batch\n",
    "with open('receita_acorda.txt', 'r') as f:\n",
    "    batch = [{'Data': line} for line in f]  # Read 200 records"
   ]
  },
  {
   "cell_type": "code",
   "execution_count": 22,
   "metadata": {},
   "outputs": [
    {
     "data": {
      "text/plain": [
       "[{'Data': '\\n'},\n",
       " {'Data': '\\n'},\n",
       " {'Data': 'Como Fazer uma Açorda Alentejana\\n'},\n",
       " {'Data': '\\n'},\n",
       " {'Data': 'Pisam-se num almofariz, reduzindo-os a papa, os coentros com os dentes de alho, a que se retirou o grelo, e o sal grosso.\\n'},\n",
       " {'Data': 'Deita-se esta papa na terrina ou numa tigela de meia cozinha, que neste caso fará ofícios de terrina.\\n'},\n",
       " {'Data': 'Rega-se com o azeite e escalda-se com a água a ferver, onde previamente se escalfaram os ovos.\\n'},\n",
       " {'Data': 'Mexe-se a açorda com uma fatia de pão grande, com que se prova a sopa.\\n'},\n",
       " {'Data': 'A esta sopa dá-se o nome de sopa «azeiteira» ou «sopa mestra».\\n'},\n",
       " {'Data': 'Introduz-se então no caldo o pão, que foi ou não cortado em fatias ou em cubos com uma faca, ou partido à mão, conforme o gosto.\\n'},\n",
       " {'Data': 'Depois, tapa-se ou não a açorda, pois uns gostam dela mole e outros apreciam as suas sopas duras.\\n'},\n",
       " {'Data': 'Os ovos são colocados no prato ou sobre as sopas na terrina, também conforme o gosto.'}]"
      ]
     },
     "execution_count": 22,
     "metadata": {},
     "output_type": "execute_result"
    }
   ],
   "source": [
    "batch"
   ]
  },
  {
   "cell_type": "code",
   "execution_count": 24,
   "metadata": {},
   "outputs": [],
   "source": [
    "result = client.put_record_batch(DeliveryStreamName='projectx_del',\n",
    "                                                      Records=batch)"
   ]
  },
  {
   "cell_type": "code",
   "execution_count": null,
   "metadata": {},
   "outputs": [],
   "source": []
  }
 ],
 "metadata": {
  "kernelspec": {
   "display_name": "Python 3",
   "language": "python",
   "name": "python3"
  },
  "language_info": {
   "codemirror_mode": {
    "name": "ipython",
    "version": 3
   },
   "file_extension": ".py",
   "mimetype": "text/x-python",
   "name": "python",
   "nbconvert_exporter": "python",
   "pygments_lexer": "ipython3",
   "version": "3.7.3"
  }
 },
 "nbformat": 4,
 "nbformat_minor": 2
}
