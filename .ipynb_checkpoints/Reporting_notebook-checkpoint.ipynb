{
 "cells": [
  {
   "cell_type": "markdown",
   "metadata": {},
   "source": [
    "# Report NoteBook"
   ]
  },
  {
   "cell_type": "markdown",
   "metadata": {},
   "source": [
    "To do:  \n",
    "   - Write a locustfile to stress test the http server\n",
    "   - Verification event body\n",
    "\n",
    "Extras\n",
    "\n",
    "\n",
    "Done:\n",
    "  - Send the records as json\n",
    "  - Add all verifications to the different actions  \n",
    "  - Garantee the Records from different actions will go to different places.  \n",
    "  - Implement a reponse 200 \n",
    "  - Verification if events in track are a list"
   ]
  },
  {
   "cell_type": "markdown",
   "metadata": {},
   "source": [
    "# Main file"
   ]
  },
  {
   "cell_type": "markdown",
   "metadata": {},
   "source": [
    "The next cell generates the main.py python script file.  "
   ]
  },
  {
   "cell_type": "code",
   "execution_count": 25,
   "metadata": {
    "scrolled": true
   },
   "outputs": [
    {
     "name": "stdout",
     "output_type": "stream",
     "text": [
      "Overwriting main.py\n"
     ]
    }
   ],
   "source": [
    "%%file main.py\n",
    "from flask import Flask, request, jsonify,abort,make_response\n",
    "import boto3\n",
    "import json\n",
    "'''\n",
    "This python script should be executed in super user conditions to this execute the command: sudo python3 \"folderpath\"/main.py  \n",
    "This scripts will create a http server with an Welcome message and 3 actions /track,/alias,/profile.\n",
    "\n",
    "The intend of all the actions in this script are only to garantee that data gets stored\n",
    "\n",
    "############################## /track ##############################\n",
    "\n",
    "This action expects the data once the method that is defined is POST. The data expect by /track should be\n",
    "something like this example:\n",
    "{\"userId\": \"fakeid01\",\"events\": [{\"eventName\": \"test\",\"metadata\": {\"test\":1},\"timestampUTC\": 0}]}\n",
    "\n",
    "Amazon Firehose Delivery Stream\n",
    "If everything goes well it will put this record into the firehose delivery stream projectx-track which will write in file track\n",
    "in amazon S3 after 300 seconds from the first put_record or after the amount of records reach to 5 MB.\n",
    "\n",
    "\n",
    "############################## /alias ##############################\n",
    "\n",
    "This action expects the data once the method that is defined is POST. The data expect by /alias should be\n",
    "something like this example:\n",
    "alias_user=  {  \"newUserId\": 'user02',\"originalUserId\": 'user01',\"timestampUTC\": 0}\n",
    "\n",
    "Amazon Firehose Delivery Stream\n",
    "If everything goes well it will put this record into the firehose delivery stream projectx-alias which will write in file alias\n",
    "in amazon S3 after 300 seconds from the first put_record or after the amount of records reach to 5 MB.\n",
    "\n",
    "\n",
    "############################# /profile #############################\n",
    "\n",
    "This action expects the data once the method that is defined is POST. The data expect by /profile should be\n",
    "something like this example:\n",
    "user_profile= {   \"userId\": \"string\",  \"attributes\": {},  \"timestampUTC\": 0 }\n",
    "\n",
    "Amazon Firehose Delivery Stream\n",
    "If everything goes well it will put this record into the firehose delivery stream projectx-profile which will write in file profile\n",
    "in amazon S3 after 300 seconds from the first put_record or after the amount of records reach to 5 MB.\n",
    "\n",
    "\n",
    "'''\n",
    "\n",
    "# Create a Flask applicatiob\n",
    "app = Flask(__name__)\n",
    "\n",
    "#Creates a client to interact with firhose\n",
    "client_firehose = boto3.client('firehose',region_name='us-east-2')\n",
    "\n",
    "\n",
    "#Welcome Message\n",
    "@app.route('/')\n",
    "def begin():\n",
    "    return (\"Welcome, This API as 3 actions track,alias,profile\")\n",
    "\n",
    "\n",
    "\n",
    "####### /track  #####\n",
    "\n",
    "@app.route('/track',methods = ['POST'])\n",
    "def track():\n",
    "    \n",
    "    ## Verify Json Format and fields\n",
    "    if request.is_json:\n",
    "        user_events = request.get_json()\n",
    "\n",
    "        if type(user_events) ==dict:\n",
    "            \n",
    "            #Correct Json Fields Verification\n",
    "            if list(user_events.keys())==['userId', 'events'] and type(user_events['events']) ==list:\n",
    "                \n",
    "                #creates a string with the json format of the request\n",
    "                user_events_json=json.dumps(user_events)\n",
    "\n",
    "                #Sends the string to firehose Delivery Stream projectx-track which will write periodically on amazon S3 on the preffix track\n",
    "                response = client_firehose.put_record(DeliveryStreamName='projectx-track',Record={'Data': user_events_json})  \n",
    "            \n",
    "                res_fields = {\"Description\":'OK'}\n",
    "                resp=make_response(json.dumps(res_fields),response['ResponseMetadata']['HTTPStatusCode'])\n",
    "                return resp\n",
    "            \n",
    "            else:\n",
    "                abort(400,'Wrong Json Fiels')\n",
    "        else:\n",
    "            abort(400,'request data was understood as '+str(type(user_events))+ ' Instead of Json')\n",
    "    else:\n",
    "        abort(400,'API was not able to recognize JSON format')\n",
    "\n",
    "\n",
    "###### /alias #####\n",
    "\n",
    "@app.route('/alias',methods = ['POST'])\n",
    "def alias():\n",
    "    \n",
    "\n",
    "    ## Verify Json Format and fields\n",
    "    if request.is_json:\n",
    "        alias_user = request.get_json()\n",
    "\n",
    "        if type(alias_user) ==dict:\n",
    "            \n",
    "    \n",
    "            #Correct Json Fields Verification\n",
    "            if list(alias_user.keys())==  [\"newUserId\",\"originalUserId\",\"timestampUTC\"]:\n",
    "\n",
    "                #creates a string with the json format of the request\n",
    "                alias_user_json=json.dumps(alias_user)\n",
    "\n",
    "                #Sends the string to firehose Delivery Stream projectx-alias which will write periodically on amazon S3 on the preffix alias\n",
    "                response = client_firehose.put_record(DeliveryStreamName='projectx-alias',Record={'Data': alias_user_json})\n",
    "                res_fields = {\"Description\":'OK'}\n",
    "                resp=make_response(json.dumps(res_fields),response['ResponseMetadata']['HTTPStatusCode'])\n",
    "                return resp\n",
    "            \n",
    "            else:\n",
    "                abort(400,'Error: Wrong Json Fiels')\n",
    "        else:\n",
    "            abort(400,'request data was understood as '+str(type(alias_user)) + ' Instead of Json')\n",
    "    else:\n",
    "        abort(400,'API was not able to recognize JSON format')\n",
    "\n",
    "\n",
    "###### /profile #####\n",
    "\n",
    "@app.route('/profile',methods = ['POST'])\n",
    "def profile():    \n",
    "\n",
    "    \n",
    "    ## Verify Json Format and fields\n",
    "    if request.is_json:\n",
    "        user_profile = request.get_json()\n",
    "        \n",
    "        if type(user_profile) ==dict:\n",
    "            \n",
    "            #Correct Json Fields Verification\n",
    "            if list(user_profile.keys())==  [\"userId\",\"attributes\",\"timestampUTC\"]:\n",
    "\n",
    "                #creates a string with the json format of the request\n",
    "                user_profile_json=json.dumps(user_profile)\n",
    "\n",
    "                #Sends the string to firehose Delivery Stream projectx-profile which will write periodically on amazon S3 on the preffix profile\n",
    "                response= client_firehose.put_record(DeliveryStreamName='projectx-profile',Record={'Data': user_profile_json})\n",
    "                \n",
    "                res_fields = {\"Description\":'OK'}\n",
    "                resp=make_response(json.dumps(res_fields),response['ResponseMetadata']['HTTPStatusCode'])\n",
    "                return resp\n",
    "            else:\n",
    "                abort(400,'Error: Wrong Json Fiels')\n",
    "        else:\n",
    "            abort(400,'request data was understood as '+ str(type(user_profile)) + ' Instead of Json')\n",
    "    else:\n",
    "        abort(400,'API was not able to recognize JSON format')\n",
    "\n",
    "\n",
    "\n",
    "if __name__ == \"__main__\":\n",
    "    app.run(host='0.0.0.0',port=80)"
   ]
  },
  {
   "cell_type": "markdown",
   "metadata": {},
   "source": [
    "#### Improvements to be done to the Main File:\n",
    "   - Implement a better verification process.\n",
    "\n",
    "#### Considerations to make regarding the Main File:  \n",
    "   - One thing that should be considered is that, even though that a structure for the data was given, all the data should be store once supposedly all of our data come from the bound-touch application, and even though we might not be prepared to treat all of it and put in the right paths in bucket we should stored in order to not lose it.\n",
    " \n"
   ]
  },
  {
   "cell_type": "markdown",
   "metadata": {},
   "source": [
    "# Test script"
   ]
  },
  {
   "cell_type": "markdown",
   "metadata": {},
   "source": [
    "The next cell writes the test.py script"
   ]
  },
  {
   "cell_type": "code",
   "execution_count": 24,
   "metadata": {
    "scrolled": true
   },
   "outputs": [
    {
     "name": "stdout",
     "output_type": "stream",
     "text": [
      "Overwriting test.py\n"
     ]
    }
   ],
   "source": [
    "%%file test.py\n",
    "import requests\n",
    "import time\n",
    "import json\n",
    "httpaddress = 'http://18.219.203.248/'\n",
    "'''\n",
    "This is the test script\n",
    "This Script is divided into 3 parts each one testing all the 3 actions for a specific scenario:\n",
    "  1.Scenario - Testing the actions with the desired records - the requests sent are all with the desired format so everything sould run smooth \n",
    "  2.Scenario - Testing the actions responses with jsons but with wrong field names - 400 bad request response is expected with the message \"Error: Wrong Json Fiels\"\n",
    "  3.Scenario - Testing the actions responses with data that is not in json format - 400 bad request response is expected with the error message \"request data was understood as *type* Instead of Json\"\n",
    "'''\n",
    "\n",
    "\n",
    "\n",
    "############ 1.Scenario ################\n",
    "\n",
    "\n",
    "print('1.Scenario - Testing the actions with the desired records - 200 response is expected')\n",
    "\n",
    "## Test /track\n",
    "httpaddresstrack  = httpaddress + 'track'\n",
    "user_events = {\"userId\": \"fakeid01\",\"events\": [{\"eventName\": \"test\",\"metadata\": {\"test\":1},\"timestampUTC\": 0}]}\n",
    "response = requests.post(httpaddresstrack, json=user_events)\n",
    "if response.status_code == 200:\n",
    "    print(response)\n",
    "    print(response.text)\n",
    "else:\n",
    "    print(response)\n",
    "    print('/track is not processing the pretend json format')\n",
    "    \n",
    "## Test /alias\n",
    "httpaddressalias  = httpaddress + 'alias'\n",
    "originalUserId = 'user01'\n",
    "new_used_Id  = 'nuser01'\n",
    "alias_user=  {  \"newUserId\": new_used_Id,\"originalUserId\": originalUserId,\"timestampUTC\": time.time()}\n",
    "response = requests.post(httpaddressalias, json=alias_user)\n",
    "if response.status_code == 200:\n",
    "    print(response)\n",
    "    print(response.text)\n",
    "else:\n",
    "    print(response)\n",
    "    print('/alias is not processing the pretend json format')\n",
    "\n",
    "## Test /profile\n",
    "httpaddressprofile  = httpaddress + 'profile'\n",
    "user_profile= {   \"userId\": \"string\",  \"attributes\": {},  \"timestampUTC\": 0 }\n",
    "response = requests.post(httpaddressprofile, json=user_profile)\n",
    "if response.status_code == 200:\n",
    "    print(response)\n",
    "    print(response.text)\n",
    "else:\n",
    "    print(response)\n",
    "    print('/track is not processing the pretend json format')\n",
    "\n",
    "    \n",
    "\n",
    "    \n",
    "############ 2.Scenario ################\n",
    "\n",
    "\n",
    "print('2.Scenario - Testing the actions responses with jsons but with wrong field names - 400 bad request response is expected ')\n",
    "\n",
    "## Test /track\n",
    "httpaddresstrack  = httpaddress + 'track'\n",
    "user_events = {\"userId123\": \"fakeid01\",\"events\": [{\"eventName\": \"test\",\"metadata\": {\"test\":1},\"timestampUTC\": 0}]}\n",
    "response = requests.post(httpaddresstrack, json=user_events)\n",
    "print(response)\n",
    "print(response.content)\n",
    "    \n",
    "## Test /alias\n",
    "httpaddressalias  = httpaddress + 'alias'\n",
    "originalUserId = 'user01'\n",
    "new_used_Id  = 'nuser01'\n",
    "alias_user=  {  \"newUserId131\": new_used_Id,\"originalUserId\": originalUserId,\"timestampUTC\": time.time()}\n",
    "response = requests.post(httpaddressalias, json=alias_user)\n",
    "print(response)\n",
    "print(response.content)\n",
    "\n",
    "## Test /profile\n",
    "httpaddressprofile  = httpaddress + 'profile'\n",
    "user_profile= {   \"userId131\": \"string\",  \"attributes\": {},  \"timestampUTC\": 0 }\n",
    "response = requests.post(httpaddressprofile, json=user_profile)\n",
    "print(response)\n",
    "print(response.content)\n",
    "\n",
    "\n",
    "\n",
    "\n",
    "############ 3.Scenario ################\n",
    "\n",
    "\n",
    "print('3.Scenario - Testing the actions responses with data that is not in json format - 400 bad request response is expected')\n",
    "\n",
    "httpaddresstrack  = httpaddress + 'track'\n",
    "user_events = \"aifbaw egiqedfjvcpal\"\n",
    "response = requests.post(httpaddresstrack, json=user_events)\n",
    "print(response)\n",
    "print(response.content)\n",
    "    \n",
    "## Test /alias\n",
    "httpaddressalias  = httpaddress + 'alias'\n",
    "originalUserId = 'user01'\n",
    "new_used_Id  = 'nuser01'\n",
    "alias_user=  \"aifbaw egiqedfjvcpal\"\n",
    "response = requests.post(httpaddressalias, json=alias_user)\n",
    "print(response)\n",
    "print(response.content)\n",
    "\n",
    "## Test /profile\n",
    "httpaddressprofile  = httpaddress + 'profile'\n",
    "user_profile=\"aifbaw egiqedfjvcpal\"\n",
    "response = requests.post(httpaddressprofile, json=user_profile)\n",
    "print(response)\n",
    "print(response.content)\n"
   ]
  },
  {
   "cell_type": "markdown",
   "metadata": {},
   "source": [
    "#### Improvements to be done to the Test File:\n",
    "   - Clearly this is not how I would imagine how a good test file would be. Probably a lot of it needs to be redesigned, maybe by creating functions and actions as response of an interaction with the user in the comand line. But well, this function does part of job and can test most of the implemented responses.\n"
   ]
  },
  {
   "cell_type": "code",
   "execution_count": null,
   "metadata": {},
   "outputs": [],
   "source": []
  },
  {
   "cell_type": "code",
   "execution_count": null,
   "metadata": {},
   "outputs": [],
   "source": []
  },
  {
   "cell_type": "markdown",
   "metadata": {},
   "source": [
    "## Exploring some boto3 features"
   ]
  },
  {
   "cell_type": "code",
   "execution_count": 21,
   "metadata": {},
   "outputs": [],
   "source": [
    "import boto3\n",
    "client = boto3.client('firehose', region_name =  'us-east-2')"
   ]
  },
  {
   "cell_type": "code",
   "execution_count": 22,
   "metadata": {
    "scrolled": true
   },
   "outputs": [
    {
     "data": {
      "text/plain": [
       "{'DeliveryStreamNames': ['projectx-alias',\n",
       "  'projectx-profile',\n",
       "  'projectx-track',\n",
       "  'projectx_del'],\n",
       " 'HasMoreDeliveryStreams': False,\n",
       " 'ResponseMetadata': {'RequestId': 'f68d8ac5-c356-022d-a0e9-6765a9603396',\n",
       "  'HTTPStatusCode': 200,\n",
       "  'HTTPHeaders': {'x-amzn-requestid': 'f68d8ac5-c356-022d-a0e9-6765a9603396',\n",
       "   'x-amz-id-2': 'iD0nW0VMBZTUX859JprAd+jDti0v8D/vxWwxQ5DOVoy9z10B3zWUUzJTty0bQVqfL4Lhjaok573DG4XG6o2hOjRquKmO3JPz',\n",
       "   'content-type': 'application/x-amz-json-1.1',\n",
       "   'content-length': '124',\n",
       "   'date': 'Fri, 06 Dec 2019 23:59:28 GMT'},\n",
       "  'RetryAttempts': 0}}"
      ]
     },
     "execution_count": 22,
     "metadata": {},
     "output_type": "execute_result"
    }
   ],
   "source": [
    "client.list_delivery_streams()"
   ]
  },
  {
   "cell_type": "code",
   "execution_count": 23,
   "metadata": {
    "scrolled": true
   },
   "outputs": [
    {
     "data": {
      "text/plain": [
       "{'DeliveryStreamDescription': {'DeliveryStreamName': 'projectx_del',\n",
       "  'DeliveryStreamARN': 'arn:aws:firehose:us-east-2:841513907133:deliverystream/projectx_del',\n",
       "  'DeliveryStreamStatus': 'ACTIVE',\n",
       "  'DeliveryStreamEncryptionConfiguration': {'Status': 'DISABLED'},\n",
       "  'DeliveryStreamType': 'DirectPut',\n",
       "  'VersionId': '2',\n",
       "  'CreateTimestamp': datetime.datetime(2019, 12, 5, 16, 42, 28, 329000, tzinfo=tzlocal()),\n",
       "  'LastUpdateTimestamp': datetime.datetime(2019, 12, 5, 19, 3, 18, 217000, tzinfo=tzlocal()),\n",
       "  'Destinations': [{'DestinationId': 'destinationId-000000000001',\n",
       "    'S3DestinationDescription': {'RoleARN': 'arn:aws:iam::841513907133:role/firehose_delivery_role',\n",
       "     'BucketARN': 'arn:aws:s3:::projectxs3',\n",
       "     'Prefix': '',\n",
       "     'ErrorOutputPrefix': '',\n",
       "     'BufferingHints': {'SizeInMBs': 5, 'IntervalInSeconds': 300},\n",
       "     'CompressionFormat': 'UNCOMPRESSED',\n",
       "     'EncryptionConfiguration': {'NoEncryptionConfig': 'NoEncryption'},\n",
       "     'CloudWatchLoggingOptions': {'Enabled': True,\n",
       "      'LogGroupName': '/aws/kinesisfirehose/projectx_del',\n",
       "      'LogStreamName': 'S3Delivery'}},\n",
       "    'ExtendedS3DestinationDescription': {'RoleARN': 'arn:aws:iam::841513907133:role/firehose_delivery_role',\n",
       "     'BucketARN': 'arn:aws:s3:::projectxs3',\n",
       "     'Prefix': '',\n",
       "     'ErrorOutputPrefix': '',\n",
       "     'BufferingHints': {'SizeInMBs': 5, 'IntervalInSeconds': 300},\n",
       "     'CompressionFormat': 'UNCOMPRESSED',\n",
       "     'EncryptionConfiguration': {'NoEncryptionConfig': 'NoEncryption'},\n",
       "     'CloudWatchLoggingOptions': {'Enabled': True,\n",
       "      'LogGroupName': '/aws/kinesisfirehose/projectx_del',\n",
       "      'LogStreamName': 'S3Delivery'},\n",
       "     'ProcessingConfiguration': {'Enabled': False, 'Processors': []},\n",
       "     'S3BackupMode': 'Disabled',\n",
       "     'DataFormatConversionConfiguration': {'Enabled': False}}}],\n",
       "  'HasMoreDestinations': False},\n",
       " 'ResponseMetadata': {'RequestId': 'f297258a-c0ee-1d01-a4f3-c82baad82cba',\n",
       "  'HTTPStatusCode': 200,\n",
       "  'HTTPHeaders': {'x-amzn-requestid': 'f297258a-c0ee-1d01-a4f3-c82baad82cba',\n",
       "   'x-amz-id-2': 'YfT90ERl2YgjIC9klHi9bJ4Ae6TcWi7ott6tXDVGFw0spZN1iP7zirmNjb21NGwUmhNZSKRA1YCOyg4ZaKKsrBeLhWgDvMXI',\n",
       "   'content-type': 'application/x-amz-json-1.1',\n",
       "   'content-length': '1510',\n",
       "   'date': 'Fri, 06 Dec 2019 23:59:29 GMT'},\n",
       "  'RetryAttempts': 0}}"
      ]
     },
     "execution_count": 23,
     "metadata": {},
     "output_type": "execute_result"
    }
   ],
   "source": [
    "client.describe_delivery_stream(DeliveryStreamName='projectx_del')"
   ]
  },
  {
   "cell_type": "code",
   "execution_count": 14,
   "metadata": {},
   "outputs": [
    {
     "name": "stdout",
     "output_type": "stream",
     "text": [
      "Testing the used with good records\n"
     ]
    }
   ],
   "source": [
    "httpaddress = 'http://18.219.203.248/'\n",
    "print('Testing the used with good records')\n",
    "httpaddresstrack  = httpaddress + 'track'\n",
    "user_events = {\"userId\": \"fakeid01\",\"events\": [{\"eventName\": \"test\",\"metadata\": {\"test\":1},\"timestampUTC\": 0}]}\n",
    "response = requests.post(httpaddresstrack, json=user_events)"
   ]
  },
  {
   "cell_type": "code",
   "execution_count": 16,
   "metadata": {},
   "outputs": [
    {
     "data": {
      "text/plain": [
       "200"
      ]
     },
     "execution_count": 16,
     "metadata": {},
     "output_type": "execute_result"
    }
   ],
   "source": [
    "response.status_code"
   ]
  },
  {
   "cell_type": "code",
   "execution_count": null,
   "metadata": {},
   "outputs": [],
   "source": []
  }
 ],
 "metadata": {
  "kernelspec": {
   "display_name": "Python 3",
   "language": "python",
   "name": "python3"
  },
  "language_info": {
   "codemirror_mode": {
    "name": "ipython",
    "version": 3
   },
   "file_extension": ".py",
   "mimetype": "text/x-python",
   "name": "python",
   "nbconvert_exporter": "python",
   "pygments_lexer": "ipython3",
   "version": "3.7.3"
  }
 },
 "nbformat": 4,
 "nbformat_minor": 2
}
