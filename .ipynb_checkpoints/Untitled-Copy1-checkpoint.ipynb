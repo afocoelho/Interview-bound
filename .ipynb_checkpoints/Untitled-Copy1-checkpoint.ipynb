{
 "cells": [
  {
   "cell_type": "markdown",
   "metadata": {},
   "source": [
    "# Create the First flask serve"
   ]
  },
  {
   "cell_type": "code",
   "execution_count": 9,
   "metadata": {
    "scrolled": true
   },
   "outputs": [
    {
     "name": "stdout",
     "output_type": "stream",
     "text": [
      "Overwriting test1.py\n"
     ]
    }
   ],
   "source": [
    "%%file test1.py\n",
    "from flask import Flask, request, jsonify\n",
    "import boto3\n",
    "\n",
    "# here we use the Flask constructor to create a new\n",
    "# application that we can add routes to\n",
    "app = Flask(__name__)\n",
    "client = boto3.client('firehose',region_name='us-east-2')\n",
    "\n",
    "@app.route('/')# methods=['POST'])\n",
    "def begin():\n",
    "    return \"como é que é\"\n",
    "@app.route('/track',methods = ['POST'])\n",
    "def track():\n",
    "    obs_dict = request.get_json()\n",
    "    confirmation='false'\n",
    "    if list(obs_dict.keys())==['userId', 'events']:\n",
    "        client.put_record(DeliveryStreamName='projectx_del',Record={'Data': str(obs_dict)})\n",
    "        confirmation='true'\n",
    "        \n",
    "    return('post = ' + confirmation)\n",
    "        \n",
    "    \n",
    "if __name__ == \"__main__\":\n",
    "    app.run(host='0.0.0.0',port=80)"
   ]
  },
  {
   "cell_type": "code",
   "execution_count": 8,
   "metadata": {},
   "outputs": [
    {
     "data": {
      "text/plain": [
       "'post=true'"
      ]
     },
     "execution_count": 8,
     "metadata": {},
     "output_type": "execute_result"
    }
   ],
   "source": [
    "confirmation = 'true'\n",
    "('post=' + confirmation)"
   ]
  },
  {
   "cell_type": "markdown",
   "metadata": {},
   "source": [
    "# Starting working with aws with python\n",
    "## BOTO3 configuration"
   ]
  },
  {
   "cell_type": "code",
   "execution_count": 26,
   "metadata": {},
   "outputs": [],
   "source": [
    "dd ={\"userId\": \"string\",\\\n",
    "  \"events\": [\\\n",
    "    {\\\n",
    "      \"eventName\": \"string\",\\\n",
    "      \"metadata\": {},\\\n",
    "      \"timestampUTC\": 0\\\n",
    "    }\\\n",
    "  ]\\\n",
    "}"
   ]
  },
  {
   "cell_type": "code",
   "execution_count": 37,
   "metadata": {},
   "outputs": [
    {
     "data": {
      "text/plain": [
       "True"
      ]
     },
     "execution_count": 37,
     "metadata": {},
     "output_type": "execute_result"
    }
   ],
   "source": [
    "if list(dd.keys())==['userId', 'events']:"
   ]
  },
  {
   "cell_type": "code",
   "execution_count": 2,
   "metadata": {},
   "outputs": [],
   "source": [
    "import boto3"
   ]
  },
  {
   "cell_type": "markdown",
   "metadata": {},
   "source": [
    "## create a S3 resource\n",
    "This will allow us to manage S3 service"
   ]
  },
  {
   "cell_type": "code",
   "execution_count": 7,
   "metadata": {},
   "outputs": [],
   "source": [
    "s3 = boto3.resource('s3')"
   ]
  },
  {
   "cell_type": "markdown",
   "metadata": {},
   "source": [
    "## lets see how many buckets/data lakes we have"
   ]
  },
  {
   "cell_type": "code",
   "execution_count": 15,
   "metadata": {},
   "outputs": [
    {
     "name": "stdout",
     "output_type": "stream",
     "text": [
      "projectxs3\n"
     ]
    }
   ],
   "source": [
    "for bucket in s3.buckets.all():\n",
    "    print(bucket.name)"
   ]
  },
  {
   "cell_type": "markdown",
   "metadata": {},
   "source": [
    "# Now lets send the instructions to do a good \"açorda alentejana\""
   ]
  },
  {
   "cell_type": "code",
   "execution_count": 16,
   "metadata": {},
   "outputs": [
    {
     "data": {
      "text/plain": [
       "s3.Object(bucket_name='projectxs3', key='receita_acorda_')"
      ]
     },
     "execution_count": 16,
     "metadata": {},
     "output_type": "execute_result"
    }
   ],
   "source": [
    "data = open('receita_acorda.txt', 'rb')\n",
    "s3.Bucket('projectxs3').put_object(Key='receita_acorda_', Body=data)"
   ]
  },
  {
   "cell_type": "code",
   "execution_count": 8,
   "metadata": {},
   "outputs": [],
   "source": [
    "bucket = s3.Bucket('projectxs3')"
   ]
  },
  {
   "cell_type": "code",
   "execution_count": 9,
   "metadata": {},
   "outputs": [
    {
     "data": {
      "text/plain": [
       "s3.Bucket(name='projectxs3')"
      ]
     },
     "execution_count": 9,
     "metadata": {},
     "output_type": "execute_result"
    }
   ],
   "source": [
    "bucket."
   ]
  },
  {
   "cell_type": "markdown",
   "metadata": {},
   "source": [
    "so we can acess direct to our s3 bucket but we want the data to pass throught kinesis firehose so..."
   ]
  },
  {
   "cell_type": "markdown",
   "metadata": {},
   "source": [
    "# KINESISSSS"
   ]
  },
  {
   "cell_type": "code",
   "execution_count": 3,
   "metadata": {},
   "outputs": [],
   "source": [
    "client = boto3.client('firehose',region_name='us-east-2')"
   ]
  },
  {
   "cell_type": "code",
   "execution_count": 4,
   "metadata": {
    "scrolled": true
   },
   "outputs": [
    {
     "data": {
      "text/plain": [
       "{'DeliveryStreamNames': ['projectx_del'],\n",
       " 'HasMoreDeliveryStreams': False,\n",
       " 'ResponseMetadata': {'RequestId': 'f66b6229-adff-8f2a-a008-3984d4079295',\n",
       "  'HTTPStatusCode': 200,\n",
       "  'HTTPHeaders': {'x-amzn-requestid': 'f66b6229-adff-8f2a-a008-3984d4079295',\n",
       "   'x-amz-id-2': '0q2UUPKmAw83rRAamT7MFs8G3WZYnNhZyYtjdG39Vh1RDNOsLrIZA8NplssjMfxQsR8a0K0USHkhg4oW3RbK81TSRl0zkaxt',\n",
       "   'content-type': 'application/x-amz-json-1.1',\n",
       "   'content-length': '71',\n",
       "   'date': 'Thu, 05 Dec 2019 19:24:28 GMT'},\n",
       "  'RetryAttempts': 0}}"
      ]
     },
     "execution_count": 4,
     "metadata": {},
     "output_type": "execute_result"
    }
   ],
   "source": [
    "client.list_delivery_streams()"
   ]
  },
  {
   "cell_type": "code",
   "execution_count": 48,
   "metadata": {},
   "outputs": [],
   "source": [
    "response = client.put_record(\n",
    "    DeliveryStreamName='projectx_del',\n",
    "    Record={\n",
    "        'Data': b'bytes'\n",
    "    }\n",
    ")"
   ]
  },
  {
   "cell_type": "code",
   "execution_count": 49,
   "metadata": {
    "scrolled": true
   },
   "outputs": [
    {
     "data": {
      "text/plain": [
       "{'RecordId': 'fkS+L+TT5n4MC+FKg2hjxddvb55NONP87Rsv1qlxnCfrc2NzUtusHlBenpfo76qd2iP3wRnAqV29/NU2gZq/7ZhpuFizfYS59lXwoRNtc1i16Y1fR/ZTosOeFLhARlbs+0pZqrCkTx61j9PXYI4ODycH2SRPf+PQ5os4URGeYFm74tYxnvU4F+zB4ihyUGT5dn1f894xyULU0DJZ/poZtfZZ+qKO6p2c',\n",
       " 'Encrypted': False,\n",
       " 'ResponseMetadata': {'RequestId': 'edaa17b8-7ee8-08e8-bbc9-4f60d23ff151',\n",
       "  'HTTPStatusCode': 200,\n",
       "  'HTTPHeaders': {'x-amzn-requestid': 'edaa17b8-7ee8-08e8-bbc9-4f60d23ff151',\n",
       "   'x-amz-id-2': 'VBwSGapxj4BUnVifvrwbjEkzegq+R+GcDZJYApnkFlE3yJ4VjvmYB8053GTjf3qer5vvUgi8moG5f4Fjm0mr0kqd4BCDwj9l',\n",
       "   'content-type': 'application/x-amz-json-1.1',\n",
       "   'content-length': '257',\n",
       "   'date': 'Thu, 05 Dec 2019 19:12:23 GMT'},\n",
       "  'RetryAttempts': 0}}"
      ]
     },
     "execution_count": 49,
     "metadata": {},
     "output_type": "execute_result"
    }
   ],
   "source": [
    "client."
   ]
  },
  {
   "cell_type": "code",
   "execution_count": 5,
   "metadata": {},
   "outputs": [
    {
     "data": {
      "text/plain": [
       "{'DeliveryStreamDescription': {'DeliveryStreamName': 'projectx_del',\n",
       "  'DeliveryStreamARN': 'arn:aws:firehose:us-east-2:841513907133:deliverystream/projectx_del',\n",
       "  'DeliveryStreamStatus': 'ACTIVE',\n",
       "  'DeliveryStreamEncryptionConfiguration': {'Status': 'DISABLED'},\n",
       "  'DeliveryStreamType': 'DirectPut',\n",
       "  'VersionId': '2',\n",
       "  'CreateTimestamp': datetime.datetime(2019, 12, 5, 16, 42, 28, 329000, tzinfo=tzlocal()),\n",
       "  'LastUpdateTimestamp': datetime.datetime(2019, 12, 5, 19, 3, 18, 217000, tzinfo=tzlocal()),\n",
       "  'Destinations': [{'DestinationId': 'destinationId-000000000001',\n",
       "    'S3DestinationDescription': {'RoleARN': 'arn:aws:iam::841513907133:role/firehose_delivery_role',\n",
       "     'BucketARN': 'arn:aws:s3:::projectxs3',\n",
       "     'Prefix': '',\n",
       "     'ErrorOutputPrefix': '',\n",
       "     'BufferingHints': {'SizeInMBs': 5, 'IntervalInSeconds': 300},\n",
       "     'CompressionFormat': 'UNCOMPRESSED',\n",
       "     'EncryptionConfiguration': {'NoEncryptionConfig': 'NoEncryption'},\n",
       "     'CloudWatchLoggingOptions': {'Enabled': True,\n",
       "      'LogGroupName': '/aws/kinesisfirehose/projectx_del',\n",
       "      'LogStreamName': 'S3Delivery'}},\n",
       "    'ExtendedS3DestinationDescription': {'RoleARN': 'arn:aws:iam::841513907133:role/firehose_delivery_role',\n",
       "     'BucketARN': 'arn:aws:s3:::projectxs3',\n",
       "     'Prefix': '',\n",
       "     'ErrorOutputPrefix': '',\n",
       "     'BufferingHints': {'SizeInMBs': 5, 'IntervalInSeconds': 300},\n",
       "     'CompressionFormat': 'UNCOMPRESSED',\n",
       "     'EncryptionConfiguration': {'NoEncryptionConfig': 'NoEncryption'},\n",
       "     'CloudWatchLoggingOptions': {'Enabled': True,\n",
       "      'LogGroupName': '/aws/kinesisfirehose/projectx_del',\n",
       "      'LogStreamName': 'S3Delivery'},\n",
       "     'ProcessingConfiguration': {'Enabled': False, 'Processors': []},\n",
       "     'S3BackupMode': 'Disabled',\n",
       "     'DataFormatConversionConfiguration': {'Enabled': False}}}],\n",
       "  'HasMoreDestinations': False},\n",
       " 'ResponseMetadata': {'RequestId': 'e5f54e94-c3b4-c83d-b396-1524ba4cd582',\n",
       "  'HTTPStatusCode': 200,\n",
       "  'HTTPHeaders': {'x-amzn-requestid': 'e5f54e94-c3b4-c83d-b396-1524ba4cd582',\n",
       "   'x-amz-id-2': 'o7ppqdgyYckJu5sqAvKA3uF8W64XXlo19R3PhFfVE+QrxkE5cHda+Nh+8mEMYWHrT0as8zF3Be59YZCszHXD2wfBXiOWlabR',\n",
       "   'content-type': 'application/x-amz-json-1.1',\n",
       "   'content-length': '1510',\n",
       "   'date': 'Thu, 05 Dec 2019 19:24:31 GMT'},\n",
       "  'RetryAttempts': 0}}"
      ]
     },
     "execution_count": 5,
     "metadata": {},
     "output_type": "execute_result"
    }
   ],
   "source": [
    "client.describe_delivery_stream(DeliveryStreamName='projectx_del')"
   ]
  },
  {
   "cell_type": "code",
   "execution_count": 21,
   "metadata": {},
   "outputs": [],
   "source": [
    "with open('receita_acorda.txt', 'r') as f:\n",
    "    for line in f:\n",
    "        # Read a record of test data\n",
    "        \n",
    "\n",
    "            # Put the record into the Firehose stream\n",
    "        try:\n",
    "            client.put_record(DeliveryStreamName='projectx_del',\n",
    "                                           Record={'Data': line})\n",
    "        except:\n",
    "            print('error')\n",
    "        # Put 200 records in a batch\n",
    "with open('receita_acorda.txt', 'r') as f:\n",
    "    batch = [{'Data': line} for line in f]  # Read 200 records"
   ]
  },
  {
   "cell_type": "code",
   "execution_count": 22,
   "metadata": {},
   "outputs": [
    {
     "data": {
      "text/plain": [
       "[{'Data': '\\n'},\n",
       " {'Data': '\\n'},\n",
       " {'Data': 'Como Fazer uma Açorda Alentejana\\n'},\n",
       " {'Data': '\\n'},\n",
       " {'Data': 'Pisam-se num almofariz, reduzindo-os a papa, os coentros com os dentes de alho, a que se retirou o grelo, e o sal grosso.\\n'},\n",
       " {'Data': 'Deita-se esta papa na terrina ou numa tigela de meia cozinha, que neste caso fará ofícios de terrina.\\n'},\n",
       " {'Data': 'Rega-se com o azeite e escalda-se com a água a ferver, onde previamente se escalfaram os ovos.\\n'},\n",
       " {'Data': 'Mexe-se a açorda com uma fatia de pão grande, com que se prova a sopa.\\n'},\n",
       " {'Data': 'A esta sopa dá-se o nome de sopa «azeiteira» ou «sopa mestra».\\n'},\n",
       " {'Data': 'Introduz-se então no caldo o pão, que foi ou não cortado em fatias ou em cubos com uma faca, ou partido à mão, conforme o gosto.\\n'},\n",
       " {'Data': 'Depois, tapa-se ou não a açorda, pois uns gostam dela mole e outros apreciam as suas sopas duras.\\n'},\n",
       " {'Data': 'Os ovos são colocados no prato ou sobre as sopas na terrina, também conforme o gosto.'}]"
      ]
     },
     "execution_count": 22,
     "metadata": {},
     "output_type": "execute_result"
    }
   ],
   "source": [
    "batch"
   ]
  },
  {
   "cell_type": "code",
   "execution_count": 24,
   "metadata": {},
   "outputs": [],
   "source": [
    "result = client.put_record_batch(DeliveryStreamName='projectx_del',\n",
    "                                                      Records=batch)"
   ]
  },
  {
   "cell_type": "code",
   "execution_count": 25,
   "metadata": {},
   "outputs": [
    {
     "data": {
      "text/plain": [
       "{'FailedPutCount': 0,\n",
       " 'Encrypted': False,\n",
       " 'RequestResponses': [{'RecordId': 'vGC3E8cRNzdC8hNdwt64eJgDnqZ48qukrDDhhoaFYVbwKXhrK55cOKPyggI4hx1fBkshvjUOECau8ow2ewEqGB73/dDiMm/QL9fpXM3+zpJ2W+QisRn6oI5dLJW8owMyS577ANRcrHEvUnO8O/3HsutimhaMZsY/phRMjYBO8ZnH5bpJ/CXrtd4G9jjWYn9W+TaE6XHcTWyjwSgTRVgIEdWl3URQvIin'},\n",
       "  {'RecordId': 'iHAlCvXSzK7no4zTIS192CGPH73iK/onWOrHpHIDluSA/RJxygICWy2sy7x09u8WYirRPnO0mc2JMgBf23qptJ4y1LUBiPCTVo8h3ffigWA342Sh9ua3gmKrG1ImkDegH97oeN6G6CW6gcHBJ4kTO4Uo8OiwcU8897mAxQix14Nl15wGVYLXbfJ6tKF+jRkNWYPwUfARpBLht/syrCsby44x5NDui3aU'},\n",
       "  {'RecordId': '6MG4u0fZNxSMKYOwxrmsQ+YA1aZ8HdBMj2F9w0L1eeq1YwN5Z/HBH3uhwoZ6iZOiq6Urhe9et5GzeotI6Ppj7cJ/vGouCbYe8P87hDaxW2+6A2WikJAjZeHxjfMquTvOx5zW88vDDoGy/LVsdfZasEQvGDSJzt1zDr6Usdf0tCyc2H/w7I2OhZM7xv2jNTNmcwtY04YxOR0E54/JTsaRDwu1OHSRsqzE'},\n",
       "  {'RecordId': '3PWBYtOgXIFlxM2onWDs2Wxcy/ZDrwKFT4tykWo0xMo4rZHi0/Ljg1NFcI5yFqkhQIfh1sRmne6MKPYxJ4ZE1Ek7V92NS/WHuDpJUjoAqUOFv2evoWOt2C20a27+mQEpqJI2Qjm+rM5MGJkwhpO0pSRLYKAMpEoe3ck9sctagPvTThDHJwV/BC+ysmaO1q0OvQPeHxVcchNkrwiFxtWjy0keTaxcoje3'},\n",
       "  {'RecordId': '8rtfZixpHMRlOzBvpUoGcUtZPQfiiKnQ3aaOjzJP6fStJ0uS9O1R63iqhyxPt10J8y7cWaFOjUk5dVj72f5xqJsZSVPYFppnHbIbmJttOhKHitlNl4MHkXs84EVXcI2L39zZDlsId3Q8FbDDNaaYz1lGOX2vsrbOjl95b9OpqtwO8lf+OX8dVd1I18o0b8QsHBaSp4RnV/+RfeHqYgS4HhZjGgxi6d/e'},\n",
       "  {'RecordId': 'fvskxPYWYLu9u4ElY71MLOs0mCnqmTaCW9oEPC2oOSytHWLVEIDbZro6X/Xvxos3vnrCALOVsrV5Z2F1Zxi7bRS9rFJURdjAvpReJAICNRHmZRMnDnq8FvyJmVebVrYom32kS48rP1EEIrQzCWsTduevvEJgz52QveW5zl0HjtfA/V5yVAihn5ynVG5LPUJS9XdsokDLFd5u3wCQb2A34L5y+lb19LFW'},\n",
       "  {'RecordId': 'iz3a5B4pBgQOOSSNVz0ln59s7TRvrmt3S21oTjozV/oxdA8J56g16gnSaImOy3jqU2TR86++eSXvV4/QMz+0OCZa0q3e8ttlxp/aAfdnYCX5xTLOToU8/HLX33wLLv6hmHzH8iyBpzuNlHZfrtFCWKDd19K8p6xf7FOMdwV0cGsdObrtCKKFXdcgGqoxa2MaVHJCdrBRUvcyTOcUcnbqADFrQ4k+45pN'},\n",
       "  {'RecordId': 'YW0dQt9/faTsz9usgr9ghJzqLD6zwopuvb6uvyTmETjynuMPJUbKsA87ddRsZ4u4dbRfpIu1mn0ceWbh3D4ns1Y8Bl8V0NXa3E6AiAHNAUZMxs/PscB2m/5TRDtxXFgf0RwjgRCy5an0SN3MJqJ7gFqikJ2uRF5RRBPC5paoj0qhPNL/yge5WkG4tLL6ZgMAp2cxohQMQsaIUFOY4Xe+lgJiDfxuK3gP'},\n",
       "  {'RecordId': 'CvDZd8DrgPhJvosiQTmly/7T+mGceFMwjz9NUmnGvXWcdLLT5eVmaKu7g1y36VcbO3iR4UTY2wrLTgZNbw1AJPcx2EKqBkBc7tZbm56i1LYKyPvFt65bY6ty4ZTxhzwBjxIsm31eJDEUk4jNrnNvMTQUeexvqDX1pe63HpfYJPvSBUCgBD+KyIjN33SjU7HIaguYHS9570FAGsORLfpbgiNU65XSep9Q'},\n",
       "  {'RecordId': 'Z+BKNa850Ghohvsd87ChAG238pibgzh4T8too4btAB1GgKasJcrXZjTUUyqB7W5Pg0eGxHs5xuzTFPDUUAr190hBV2MqSn1hNMPfwHoocxslQFdQJImPfraGaH5GcYV5UBXstgDNjvC4iUYUj1i+wY5j1ximw8FIzdv2GyBwCZf01MDx9R6woudN8wfkuF1tOMSbK2Bv1aMWGKkdGmSaRBRNoS51DRVj'},\n",
       "  {'RecordId': '11Ek8u/l0c8by6n8gOr2TAmVB32jie03Y/NxDX2Kqkxx4R9c7incFwTXHJg3F23js7+A3yUap+OV81Md2uOu4tCbdLraK8WbD2Gk8KGhgizIdzJXMWlwC/peiW8IP/1XMSR4QSBut/5UFgnuuL8Cg8oljB/00sKO3V6UeFEabeDSoVkyGJH7U5KprFZ1VW7N432nwY7G2QUkugMlVL8MdEgaIo2U0Lzz'},\n",
       "  {'RecordId': 'z9gnOYJ/tmbku5Q8naNSTom7qPPFWSvlsp1gYxXDH3XT81BQrZd3Xx0tRjVUTRup6COs7q/5ChMfYZH2/29SWOHVHJGVsbjFYa1DGWG4tkjxcHeXL/dySTQjWX49KeJq7SC5PcETG1anogqBtMconPlj+hNv+OdmGJU9ZUX2UTaX22CDCFfMybt6C8MblF7hr85bh8olDEHymC/+PacdexSTCfCBpINu'}],\n",
       " 'ResponseMetadata': {'RequestId': 'ebfd38c6-4a11-aa93-bd9e-6573d69a6569',\n",
       "  'HTTPStatusCode': 200,\n",
       "  'HTTPHeaders': {'x-amzn-requestid': 'ebfd38c6-4a11-aa93-bd9e-6573d69a6569',\n",
       "   'x-amz-id-2': 'v4o4Tx8+ZaZPDu46huifA3XWsBntXn9oUIPh9UinUo8EM3knDOfNn+aT6ZzzOvPy6eFPeZpmq/u7QkhsanmW0nMFsiLtN/dy',\n",
       "   'content-type': 'application/x-amz-json-1.1',\n",
       "   'content-length': '2939',\n",
       "   'date': 'Thu, 05 Dec 2019 19:33:08 GMT'},\n",
       "  'RetryAttempts': 0}}"
      ]
     },
     "execution_count": 25,
     "metadata": {},
     "output_type": "execute_result"
    }
   ],
   "source": [
    "result"
   ]
  },
  {
   "cell_type": "code",
   "execution_count": null,
   "metadata": {},
   "outputs": [],
   "source": []
  }
 ],
 "metadata": {
  "kernelspec": {
   "display_name": "Python 3",
   "language": "python",
   "name": "python3"
  },
  "language_info": {
   "codemirror_mode": {
    "name": "ipython",
    "version": 3
   },
   "file_extension": ".py",
   "mimetype": "text/x-python",
   "name": "python",
   "nbconvert_exporter": "python",
   "pygments_lexer": "ipython3",
   "version": "3.7.3"
  }
 },
 "nbformat": 4,
 "nbformat_minor": 2
}
